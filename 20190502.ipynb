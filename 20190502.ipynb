{
 "cells": [
  {
   "cell_type": "markdown",
   "metadata": {},
   "source": [
    "#流程控制 "
   ]
  },
  {
   "cell_type": "markdown",
   "metadata": {},
   "source": [
    "# 流程控制 "
   ]
  },
  {
   "cell_type": "code",
   "execution_count": 3,
   "metadata": {},
   "outputs": [
    {
     "name": "stdout",
     "output_type": "stream",
     "text": [
      "請輸入攝氏溫度:20\n",
      "華氏溫度: 68.0\n"
     ]
    }
   ],
   "source": [
    "celsius=float(input('請輸入攝氏溫度:'))\n",
    "fahrenheit=(9/5)* celsius + 32\n",
    "print('華氏溫度:',fahrenheit)"
   ]
  },
  {
   "cell_type": "code",
   "execution_count": 5,
   "metadata": {},
   "outputs": [
    {
     "name": "stdout",
     "output_type": "stream",
     "text": [
      "樣本= [5, 8, 9, 6, 4, 1, 2, 3, 5, 6]\n",
      "平均數= 4.9\n",
      "最大數= 9\n",
      "最小數= 1\n",
      "變異數= 6.322222222222222\n",
      "標準差= 2.5144029554194813\n"
     ]
    }
   ],
   "source": [
    "import statistics as st\n",
    "sample=[5,8,9,6,4,1,2,3,5,6]\n",
    "print('樣本=',sample)\n",
    "print('平均數=',st.mean(sample))\n",
    "print('最大數=',max(sample))\n",
    "print('最小數=',min(sample))\n",
    "print('變異數=',st.variance(sample))\n",
    "print('標準差=',st.stdev(sample))"
   ]
  },
  {
   "cell_type": "code",
   "execution_count": 6,
   "metadata": {},
   "outputs": [
    {
     "name": "stdout",
     "output_type": "stream",
     "text": [
      "numB是比較大的數\n"
     ]
    }
   ],
   "source": [
    "numA = 3\n",
    "numB = 4\n",
    "if numA < numB:\n",
    "    print('numB是比較大的數')"
   ]
  },
  {
   "cell_type": "code",
   "execution_count": 7,
   "metadata": {},
   "outputs": [
    {
     "name": "stdout",
     "output_type": "stream",
     "text": [
      "numA是比較大的數\n"
     ]
    }
   ],
   "source": [
    "numA = 4\n",
    "numB = 3\n",
    "if numA < numB:\n",
    "    print('numB是比較大的數')\n",
    "else:\n",
    "    print('numA是比較大的數')"
   ]
  },
  {
   "cell_type": "code",
   "execution_count": 8,
   "metadata": {},
   "outputs": [
    {
     "name": "stdout",
     "output_type": "stream",
     "text": [
      "請輸入numA:4\n",
      "請輸入numB:3\n",
      "numB是比較大的數\n"
     ]
    }
   ],
   "source": [
    "numA = int(input('請輸入numA:'))\n",
    "numB = int(input('請輸入numB:'))\n",
    "if numA < numB:\n",
    "    print('numB是比較大的數')\n",
    "else:\n",
    "    print('numB是比較大的數')"
   ]
  },
  {
   "cell_type": "code",
   "execution_count": 10,
   "metadata": {},
   "outputs": [
    {
     "ename": "SyntaxError",
     "evalue": "invalid syntax (<ipython-input-10-305b7d718f0e>, line 5)",
     "output_type": "error",
     "traceback": [
      "\u001b[1;36m  File \u001b[1;32m\"<ipython-input-10-305b7d718f0e>\"\u001b[1;36m, line \u001b[1;32m5\u001b[0m\n\u001b[1;33m    else numA > numB:\u001b[0m\n\u001b[1;37m            ^\u001b[0m\n\u001b[1;31mSyntaxError\u001b[0m\u001b[1;31m:\u001b[0m invalid syntax\n"
     ]
    }
   ],
   "source": [
    "numA = int(input('請輸入numA: '))\n",
    "numB = int(input('請輸入numB: '))\n",
    "if numA < numB:\n",
    "    print('numB是比較大的數')\n",
    "else numA > numB:\n",
    "     print('numB是比較大的數')\n",
    "else:\n",
    "    print('numA跟numB相同大小')\n",
    "    "
   ]
  },
  {
   "cell_type": "code",
   "execution_count": 11,
   "metadata": {},
   "outputs": [
    {
     "name": "stdout",
     "output_type": "stream",
     "text": [
      "總和: 55\n"
     ]
    }
   ],
   "source": [
    "sum = 0\n",
    "for i in range(1,11):\n",
    "    sum=sum+i\n",
    "print('總和:',sum)"
   ]
  },
  {
   "cell_type": "code",
   "execution_count": 12,
   "metadata": {},
   "outputs": [
    {
     "name": "stdout",
     "output_type": "stream",
     "text": [
      "總和: 49\n"
     ]
    }
   ],
   "source": [
    "sample=[5,8,9,6,4,1,2,3,5,6]\n",
    "sum=0\n",
    "for i in sample:\n",
    "    sum=sum+i\n",
    "print('總和:',sum)"
   ]
  },
  {
   "cell_type": "code",
   "execution_count": 13,
   "metadata": {},
   "outputs": [],
   "source": [
    "# In-class exercise 隋堂練習"
   ]
  },
  {
   "cell_type": "code",
   "execution_count": 14,
   "metadata": {},
   "outputs": [
    {
     "name": "stdout",
     "output_type": "stream",
     "text": [
      "兔子有 12 隻\n",
      "雞有 23 隻\n"
     ]
    }
   ],
   "source": [
    "head = 35\n",
    "leg = 94\n",
    "for rabbit in range(0,head+1):\n",
    "    chicken=head-rabbit\n",
    "    if((rabbit*4+chicken*2)==94):\n",
    "        print('兔子有',rabbit, '隻')\n",
    "        print('雞有',chicken, '隻')"
   ]
  },
  {
   "cell_type": "code",
   "execution_count": 15,
   "metadata": {},
   "outputs": [
    {
     "name": "stdout",
     "output_type": "stream",
     "text": [
      "I\n",
      " \n",
      "l\n",
      "o\n",
      "v\n",
      "e\n",
      " \n",
      "A\n",
      "v\n",
      "e\n",
      "n\n",
      "g\n",
      "e\n",
      "r\n",
      "s\n",
      " \n",
      "I\n",
      "V\n"
     ]
    }
   ],
   "source": [
    "mylist='I love Avengers IV'\n",
    "for character in mylist:\n",
    "    print(character)"
   ]
  },
  {
   "cell_type": "code",
   "execution_count": null,
   "metadata": {},
   "outputs": [],
   "source": []
  }
 ],
 "metadata": {
  "kernelspec": {
   "display_name": "Python 3",
   "language": "python",
   "name": "python3"
  },
  "language_info": {
   "codemirror_mode": {
    "name": "ipython",
    "version": 3
   },
   "file_extension": ".py",
   "mimetype": "text/x-python",
   "name": "python",
   "nbconvert_exporter": "python",
   "pygments_lexer": "ipython3",
   "version": "3.7.1"
  }
 },
 "nbformat": 4,
 "nbformat_minor": 2
}
