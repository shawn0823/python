{
 "cells": [
  {
   "cell_type": "code",
   "execution_count": 1,
   "metadata": {},
   "outputs": [
    {
     "ename": "SyntaxError",
     "evalue": "invalid syntax (<ipython-input-1-f9d42f1deed6>, line 4)",
     "output_type": "error",
     "traceback": [
      "\u001b[1;36m  File \u001b[1;32m\"<ipython-input-1-f9d42f1deed6>\"\u001b[1;36m, line \u001b[1;32m4\u001b[0m\n\u001b[1;33m    tuple: (1,2,3) 不能改變其值\u001b[0m\n\u001b[1;37m                        ^\u001b[0m\n\u001b[1;31mSyntaxError\u001b[0m\u001b[1;31m:\u001b[0m invalid syntax\n"
     ]
    }
   ],
   "source": [
    "#python物件\n",
    "list, tuple, dict, sets\n",
    "list: [1,2,3]\n",
    "tuple: (1,2,3) 不能改變其值\n",
    "dict: {1:'apple',2:'banana' , 3:'orange'}\n",
    "sets: {apple, banana, orange}"
   ]
  },
  {
   "cell_type": "code",
   "execution_count": 4,
   "metadata": {},
   "outputs": [
    {
     "name": "stdout",
     "output_type": "stream",
     "text": [
      "[1, 2, 3]\n",
      "python\n",
      "['python', 'js', 'SQL', 'java']\n"
     ]
    }
   ],
   "source": [
    "#list串列\n",
    "my_list0 = [1,2,3]\n",
    "print(my_list0)\n",
    "my_list1 = ['python', 'js' , 'SQL']\n",
    "print(my_list1[0])\n",
    "my_list1.append ('java')\n",
    "print(my_list1)"
   ]
  },
  {
   "cell_type": "code",
   "execution_count": 7,
   "metadata": {},
   "outputs": [
    {
     "name": "stdout",
     "output_type": "stream",
     "text": [
      "['c#', 'c#', 'c#', 'python', 'js', 'SQL', 'java']\n",
      "7\n"
     ]
    }
   ],
   "source": [
    "#新增至特定位置\n",
    "my_list1.insert(0, 'c#')\n",
    "print(my_list1)\n",
    "#list長度\n",
    "print(len(my_list1))"
   ]
  },
  {
   "cell_type": "code",
   "execution_count": 8,
   "metadata": {},
   "outputs": [
    {
     "name": "stdout",
     "output_type": "stream",
     "text": [
      "5\n"
     ]
    }
   ],
   "source": [
    "my_list2=['c#','python','js','SQL','java']\n",
    "#list長度\n",
    "print(len(my_list2))"
   ]
  },
  {
   "cell_type": "code",
   "execution_count": 9,
   "metadata": {},
   "outputs": [
    {
     "name": "stdout",
     "output_type": "stream",
     "text": [
      "5\n",
      "6\n"
     ]
    }
   ],
   "source": [
    "my_list2=['c#','python','js','SQL','java']\n",
    "#list長度\n",
    "print(len(my_list2))\n",
    "print(len(my_list2[1]))"
   ]
  },
  {
   "cell_type": "code",
   "execution_count": 10,
   "metadata": {},
   "outputs": [
    {
     "name": "stdout",
     "output_type": "stream",
     "text": [
      "['c#', 'python', 'SQL', 'java']\n"
     ]
    }
   ],
   "source": [
    "#list刪除\n",
    "my_list3=['c#','python','js','SQL','java']\n",
    "my_list3.remove('js')#刪除某特物件\n",
    "print(my_list3)\n",
    "\n"
   ]
  },
  {
   "cell_type": "code",
   "execution_count": 11,
   "metadata": {},
   "outputs": [
    {
     "name": "stdout",
     "output_type": "stream",
     "text": [
      "[1, 2, 1, 2, 1, 2, 1, 2, 1, 2]\n",
      "5\n"
     ]
    }
   ],
   "source": [
    "#串列的重複\n",
    "a=[1,2]\n",
    "print(a*5)\n",
    "print(5)\n"
   ]
  },
  {
   "cell_type": "code",
   "execution_count": 12,
   "metadata": {},
   "outputs": [
    {
     "name": "stdout",
     "output_type": "stream",
     "text": [
      "False\n"
     ]
    }
   ],
   "source": [
    "#檢查是否存在\n",
    "print('java ' in ['python','js','c#'])"
   ]
  },
  {
   "cell_type": "code",
   "execution_count": 13,
   "metadata": {},
   "outputs": [
    {
     "name": "stdout",
     "output_type": "stream",
     "text": [
      "[1, 2, 1, 2, 1, 2, 1, 2, 1, 2]\n"
     ]
    }
   ],
   "source": [
    "#串列的重複\n",
    "a=[1,2]\n",
    "print(a*5)"
   ]
  },
  {
   "cell_type": "code",
   "execution_count": 15,
   "metadata": {},
   "outputs": [
    {
     "name": "stdout",
     "output_type": "stream",
     "text": [
      "[1, 2, 3]\n",
      "[1, 3, 5, 7, 9]\n",
      "[1, 2, 3, 4, 5, 6, 7]\n",
      "7\n",
      "1\n",
      "0\n",
      "1\n"
     ]
    }
   ],
   "source": [
    "#串列取值\n",
    "a=[1,2,3,4,5,6,7,8,9]\n",
    "b=a[0:3]#包含0,但是不包含3\n",
    "print(b)\n",
    "c=a[0:9:2] #間隔取值 [開始:結束:間隔]\n",
    "print(c)\n",
    "del a[7:9]\n",
    "print(a)\n",
    "print(max(a)) #最大值\n",
    "print(min(a)) #最小值\n",
    "print(a.index(1)) #1出現的索引值\n",
    "print(a.count(1)) #1出現的次數"
   ]
  },
  {
   "cell_type": "code",
   "execution_count": 16,
   "metadata": {},
   "outputs": [
    {
     "name": "stdout",
     "output_type": "stream",
     "text": [
      "[1, 2, 3, 4, 5, 6, 7]\n",
      "[7, 6, 5, 4, 3, 2, 1]\n",
      "[1, 2, 3, 4, 5, 6, 7]\n"
     ]
    }
   ],
   "source": [
    "print(a)\n",
    "a.reverse()#串列反轉\n",
    "print(a)\n",
    "a.sort() #串列排序\n",
    "print(a)"
   ]
  },
  {
   "cell_type": "code",
   "execution_count": 17,
   "metadata": {},
   "outputs": [
    {
     "name": "stdout",
     "output_type": "stream",
     "text": [
      "123\n",
      "abc\n",
      "[111, 222]\n"
     ]
    }
   ],
   "source": [
    "a=[123,'abc',[111,222],[333,444]]\n",
    "print(a[0])\n",
    "print(a[1])\n",
    "print(a[2])"
   ]
  },
  {
   "cell_type": "code",
   "execution_count": 18,
   "metadata": {},
   "outputs": [
    {
     "name": "stdout",
     "output_type": "stream",
     "text": [
      "milk\n",
      "egg\n",
      "coffee\n",
      "watermelon\n"
     ]
    }
   ],
   "source": [
    "#串列List常用在for迴圈\n",
    "shoplist = ['milk','egg','coffee','watermelon']\n",
    "for item in shoplist:\n",
    "    print(item)"
   ]
  },
  {
   "cell_type": "code",
   "execution_count": 19,
   "metadata": {},
   "outputs": [
    {
     "name": "stdout",
     "output_type": "stream",
     "text": [
      "<class 'list'>\n",
      "<class 'tuple'>\n",
      "('python', 'js', 'c#')\n"
     ]
    }
   ],
   "source": [
    "a_list=['python','js','c#']\n",
    "a_tuple=('python','js','c#')\n",
    "b_tuple=tuple(a_list)\n",
    "print(type(a_list))\n",
    "print(type(a_tuple))\n",
    "print(b_tuple)\n"
   ]
  },
  {
   "cell_type": "code",
   "execution_count": 20,
   "metadata": {},
   "outputs": [
    {
     "name": "stdout",
     "output_type": "stream",
     "text": [
      "(111, 222, 333)\n",
      "<class 'tuple'>\n"
     ]
    }
   ],
   "source": [
    "c_tuple=111,222,333 #c_tuple=(111,222,333)\n",
    "print(c_tuple)\n",
    "print(type(c_tuple))"
   ]
  },
  {
   "cell_type": "code",
   "execution_count": 21,
   "metadata": {},
   "outputs": [
    {
     "name": "stdout",
     "output_type": "stream",
     "text": [
      "python\n",
      "python\n",
      "python\n"
     ]
    }
   ],
   "source": [
    "a_list=['python','js','c#']\n",
    "a_dict={0:'python',1:'js',3:'c#'}\n",
    "print(a_list[0])\n",
    "print(a_dict[0])\n",
    "b_dict={'1st':'python','2nd':'js','3rd':'c#'}\n",
    "print(b_dict['1st'])"
   ]
  },
  {
   "cell_type": "code",
   "execution_count": null,
   "metadata": {},
   "outputs": [],
   "source": []
  }
 ],
 "metadata": {
  "kernelspec": {
   "display_name": "Python 3",
   "language": "python",
   "name": "python3"
  },
  "language_info": {
   "codemirror_mode": {
    "name": "ipython",
    "version": 3
   },
   "file_extension": ".py",
   "mimetype": "text/x-python",
   "name": "python",
   "nbconvert_exporter": "python",
   "pygments_lexer": "ipython3",
   "version": "3.7.1"
  }
 },
 "nbformat": 4,
 "nbformat_minor": 2
}
